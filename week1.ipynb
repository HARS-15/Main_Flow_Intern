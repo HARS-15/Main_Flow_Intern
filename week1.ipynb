{
 "cells": [
  {
   "cell_type": "markdown",
   "id": "ccac9afe-bcae-434d-a280-b00babab796b",
   "metadata": {},
   "source": [
    "## List"
   ]
  },
  {
   "cell_type": "markdown",
   "id": "8e3dc71a-9f80-4b7d-86fa-653cf106b50e",
   "metadata": {},
   "source": [
    "## creation"
   ]
  },
  {
   "cell_type": "code",
   "execution_count": 1,
   "id": "91cef9b1-0f6f-4885-ba28-15e1de46fd08",
   "metadata": {},
   "outputs": [
    {
     "name": "stdout",
     "output_type": "stream",
     "text": [
      "[1, 2, 3, 6, 8, 20]\n",
      "['abc', 'def', 'hyd', 'delhi', 'Mumbai']\n",
      "['a', 'Main Flow', True, 15, 22.5, (15+6j)]\n"
     ]
    }
   ],
   "source": [
    "lis1=[1,2,3,6,8,20]\n",
    "print(lis1)\n",
    "lis2=[\"abc\",\"def\",\"hyd\",\"delhi\",\"Mumbai\"]\n",
    "print(lis2)\n",
    "lis3=[\"a\",\"Main Flow\",True,15,22.5,15+6j]\n",
    "print(lis3)"
   ]
  },
  {
   "cell_type": "markdown",
   "id": "9cd38146-d861-419a-bb5a-299b67b2dc8a",
   "metadata": {},
   "source": [
    "### Adding elements"
   ]
  },
  {
   "cell_type": "code",
   "execution_count": 2,
   "id": "899c18b8-4d26-4993-a973-fc1e969f61d4",
   "metadata": {},
   "outputs": [
    {
     "name": "stdout",
     "output_type": "stream",
     "text": [
      "['Data', 'Science', 'Python']\n",
      "['Data', 'Science', 'with', 'Python']\n"
     ]
    }
   ],
   "source": [
    "lis=[]\n",
    "#Adding elements at end\n",
    "lis.append(\"Data\")\n",
    "lis.append(\"Science\")\n",
    "lis.append(\"Python\")\n",
    "print(lis)\n",
    "#Adding elements at particular position\n",
    "lis.insert(2,\"with\")\n",
    "print(lis)"
   ]
  },
  {
   "cell_type": "markdown",
   "id": "e1ccc6a7-dac9-4a98-b0c3-8102f8e719db",
   "metadata": {},
   "source": [
    "### Removing elements"
   ]
  },
  {
   "cell_type": "code",
   "execution_count": 3,
   "id": "edad5989-57ae-4342-9cae-1b5f8603ac7b",
   "metadata": {},
   "outputs": [
    {
     "name": "stdout",
     "output_type": "stream",
     "text": [
      "['Data', 'Science', 'with', 'Python']\n",
      "['Data', 'Science', 'with']\n",
      "['Data', 'with']\n",
      "['Data', 'with', 'Main', 'Flow']\n",
      "['with', 'Main', 'Flow']\n"
     ]
    }
   ],
   "source": [
    "print(lis)\n",
    "#Removing the last element\n",
    "lis.pop()\n",
    "print(lis)\n",
    "#Removing the element at particular index\n",
    "lis.pop(1)\n",
    "print(lis)\n",
    "lis.append(\"Main\")\n",
    "lis.append(\"Flow\")\n",
    "print(lis)\n",
    "#Removing the particular element from list\n",
    "lis.remove(\"Data\")\n",
    "print(lis)"
   ]
  },
  {
   "cell_type": "markdown",
   "id": "0724f60e-6a23-477f-95ad-5ce4b54e26f3",
   "metadata": {},
   "source": [
    "### Modifing elements"
   ]
  },
  {
   "cell_type": "code",
   "execution_count": 5,
   "id": "22a348fe-ffba-4f38-8d38-2c67dcf4e6ab",
   "metadata": {},
   "outputs": [
    {
     "name": "stdout",
     "output_type": "stream",
     "text": [
      "['Data', 'Science', 'with', 'python']\n",
      "['Data', 'Science', 'using', 'python']\n",
      "[1, 2, 3, 4, 5, 6, 7]\n",
      "[1, 2, 5, 4, 6, 7]\n"
     ]
    }
   ],
   "source": [
    "lis=[\"Data\",\"Science\",\"with\",\"python\"]\n",
    "print(lis)\n",
    "#Replacing the element at particular index\n",
    "lis[2]=\"using\"\n",
    "print(lis)\n",
    "lis=[1,2,3,4,5,6,7]\n",
    "print(lis)\n",
    "#Replacing the part of list\n",
    "lis[2:5]=[5,4]\n",
    "print(lis)"
   ]
  },
  {
   "cell_type": "markdown",
   "id": "ce2953de-d698-49d6-8be4-ba55f5ba4915",
   "metadata": {},
   "source": [
    "## Dictonary"
   ]
  },
  {
   "cell_type": "markdown",
   "id": "748f8015-ad35-40f1-a50c-1397b95b07c6",
   "metadata": {},
   "source": [
    "### Creating Dictonary"
   ]
  },
  {
   "cell_type": "code",
   "execution_count": 6,
   "id": "6ea881af-db62-4916-a5e7-d6febbba2d06",
   "metadata": {},
   "outputs": [
    {
     "name": "stdout",
     "output_type": "stream",
     "text": [
      "{'CSE': 60, 'ECE': 60, 'EEE': 60, 'PHARMACY': 100}\n"
     ]
    }
   ],
   "source": [
    "dic={\"CSE\":60,\"ECE\":60,\"EEE\":60,\"PHARMACY\":100}\n",
    "print(dic)"
   ]
  },
  {
   "cell_type": "markdown",
   "id": "b66e86cb-7e17-43ed-9d89-88ba9cb02d59",
   "metadata": {},
   "source": [
    "### Adding elements "
   ]
  },
  {
   "cell_type": "code",
   "execution_count": 7,
   "id": "e8fe4a61-1ef9-4f79-9bac-2b3dda974f15",
   "metadata": {},
   "outputs": [
    {
     "name": "stdout",
     "output_type": "stream",
     "text": [
      "{'CSE': 60, 'ECE': 60, 'EEE': 60, 'PHARMACY': 100}\n",
      "{'CSE': 60, 'ECE': 60, 'EEE': 60, 'PHARMACY': 100, 'Petroleum': 80}\n",
      "dict_keys(['CSE', 'ECE', 'EEE', 'PHARMACY', 'Petroleum'])\n",
      "dict_values([60, 60, 60, 100, 80])\n"
     ]
    }
   ],
   "source": [
    "print(dic)\n",
    "dic[\"Petroleum\"]=80\n",
    "print(dic)\n",
    "#Keys in a dictonary\n",
    "print(dic.keys())\n",
    "#values in a dictonary\n",
    "print(dic.values())"
   ]
  },
  {
   "cell_type": "markdown",
   "id": "66988791-d446-4ffb-a2af-75f953f0483e",
   "metadata": {},
   "source": [
    "### Removing Elements"
   ]
  },
  {
   "cell_type": "code",
   "execution_count": 8,
   "id": "a909f0ea-8c50-4b05-9210-66db3a5d46e8",
   "metadata": {},
   "outputs": [
    {
     "name": "stdout",
     "output_type": "stream",
     "text": [
      "{'CSE': 60, 'ECE': 60, 'EEE': 60, 'PHARMACY': 100, 'Petroleum': 80}\n",
      "{'ECE': 60, 'EEE': 60, 'PHARMACY': 100, 'Petroleum': 80}\n"
     ]
    }
   ],
   "source": [
    "print(dic)\n",
    "del dic[\"CSE\"]\n",
    "print(dic)"
   ]
  },
  {
   "cell_type": "markdown",
   "id": "26ee2ba7-c4d7-4403-b75c-ca75e878da58",
   "metadata": {},
   "source": [
    "### Modfing Elements"
   ]
  },
  {
   "cell_type": "code",
   "execution_count": 10,
   "id": "138242b5-8a14-49fd-858b-87214b252094",
   "metadata": {},
   "outputs": [
    {
     "name": "stdout",
     "output_type": "stream",
     "text": [
      "{'ECE': 60, 'EEE': 60, 'PHARMACY': 100, 'Petroleum': 80}\n",
      "{'ECE': 80, 'EEE': 60, 'PHARMACY': 100, 'Petroleum': 80}\n"
     ]
    },
    {
     "ename": "KeyError",
     "evalue": "'CSE'",
     "output_type": "error",
     "traceback": [
      "\u001b[1;31m---------------------------------------------------------------------------\u001b[0m",
      "\u001b[1;31mKeyError\u001b[0m                                  Traceback (most recent call last)",
      "Cell \u001b[1;32mIn[10], line 5\u001b[0m\n\u001b[0;32m      3\u001b[0m \u001b[38;5;28mprint\u001b[39m(dic)\n\u001b[0;32m      4\u001b[0m \u001b[38;5;66;03m#Accessing the Key not in a dictonary\u001b[39;00m\n\u001b[1;32m----> 5\u001b[0m \u001b[38;5;28mprint\u001b[39m(dic[\u001b[38;5;124m\"\u001b[39m\u001b[38;5;124mCSE\u001b[39m\u001b[38;5;124m\"\u001b[39m])\n",
      "\u001b[1;31mKeyError\u001b[0m: 'CSE'"
     ]
    }
   ],
   "source": [
    "print(dic)\n",
    "dic[\"ECE\"]=80\n",
    "print(dic)\n",
    "#Accessing the Key not in a dictonary\n",
    "print(dic[\"CSE\"])"
   ]
  },
  {
   "cell_type": "markdown",
   "id": "df7e0dd9-f8a4-4773-898a-f53b630ceb4e",
   "metadata": {},
   "source": [
    "## Set "
   ]
  },
  {
   "cell_type": "markdown",
   "id": "6cf3f126-7ab1-43da-ad3e-aee4d8e38a44",
   "metadata": {},
   "source": [
    "### Creation"
   ]
  },
  {
   "cell_type": "code",
   "execution_count": 13,
   "id": "02ff5a8e-18bf-41d7-938f-9c5be8186655",
   "metadata": {},
   "outputs": [
    {
     "name": "stdout",
     "output_type": "stream",
     "text": [
      "{'MAIN', 'FLOW', 'SERVICES', 'TECHNOLIGIES'}\n"
     ]
    }
   ],
   "source": [
    "sets={\"MAIN\",\"FLOW\",\"SERVICES\",\"TECHNOLIGIES\",\"MAIN\"}\n",
    "print(sets)"
   ]
  },
  {
   "cell_type": "markdown",
   "id": "195f116b-0042-4c1e-b6fe-19a086e840fb",
   "metadata": {},
   "source": [
    "### Adding Elements"
   ]
  },
  {
   "cell_type": "code",
   "execution_count": 15,
   "id": "eb7929f3-b57f-422b-9e4e-03518a120ad0",
   "metadata": {},
   "outputs": [
    {
     "name": "stdout",
     "output_type": "stream",
     "text": [
      "{'ECE', 'CSIT', 'CSE'}\n"
     ]
    }
   ],
   "source": [
    "sets=set()\n",
    "sets.add(\"CSE\")\n",
    "sets.add(\"ECE\")\n",
    "sets.add(\"CSIT\")\n",
    "print(sets)"
   ]
  },
  {
   "cell_type": "markdown",
   "id": "5ccfe5c2-9ef0-4965-8174-96765f6ff02d",
   "metadata": {},
   "source": [
    "### Removing Elements"
   ]
  },
  {
   "cell_type": "code",
   "execution_count": 16,
   "id": "28946aed-a41f-40ba-8ef1-10aa757ade88",
   "metadata": {},
   "outputs": [
    {
     "name": "stdout",
     "output_type": "stream",
     "text": [
      "{'ECE', 'CSIT', 'CSE'}\n",
      "{'ECE', 'CSIT'}\n"
     ]
    }
   ],
   "source": [
    "print(sets)\n",
    "sets.discard(\"CSE\")\n",
    "print(sets)"
   ]
  },
  {
   "cell_type": "code",
   "execution_count": null,
   "id": "38cf3cfe-d67c-4b63-af05-f4d0abc68a03",
   "metadata": {},
   "outputs": [],
   "source": []
  }
 ],
 "metadata": {
  "kernelspec": {
   "display_name": "Python 3 (ipykernel)",
   "language": "python",
   "name": "python3"
  },
  "language_info": {
   "codemirror_mode": {
    "name": "ipython",
    "version": 3
   },
   "file_extension": ".py",
   "mimetype": "text/x-python",
   "name": "python",
   "nbconvert_exporter": "python",
   "pygments_lexer": "ipython3",
   "version": "3.12.3"
  }
 },
 "nbformat": 4,
 "nbformat_minor": 5
}
