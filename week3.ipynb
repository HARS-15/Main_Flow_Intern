{
 "cells": [
  {
   "cell_type": "code",
   "execution_count": 1,
   "id": "92265822-f57a-42bd-855a-c53797cca03a",
   "metadata": {},
   "outputs": [],
   "source": [
    "import pandas as pd\n",
    "import matplotlib.pyplot as plt"
   ]
  },
  {
   "cell_type": "code",
   "execution_count": 2,
   "id": "4330bbf5-ba57-4893-9db4-ed14a7f6d1bb",
   "metadata": {},
   "outputs": [],
   "source": [
    "data=pd.read_csv(\"householdtask3.csv\")"
   ]
  },
  {
   "cell_type": "code",
   "execution_count": 3,
   "id": "88852c23-6e4d-4877-9e6e-f9eb50d9bb0a",
   "metadata": {},
   "outputs": [
    {
     "data": {
      "text/html": [
       "<div>\n",
       "<style scoped>\n",
       "    .dataframe tbody tr th:only-of-type {\n",
       "        vertical-align: middle;\n",
       "    }\n",
       "\n",
       "    .dataframe tbody tr th {\n",
       "        vertical-align: top;\n",
       "    }\n",
       "\n",
       "    .dataframe thead th {\n",
       "        text-align: right;\n",
       "    }\n",
       "</style>\n",
       "<table border=\"1\" class=\"dataframe\">\n",
       "  <thead>\n",
       "    <tr style=\"text-align: right;\">\n",
       "      <th></th>\n",
       "      <th>year</th>\n",
       "      <th>tot_hhs</th>\n",
       "      <th>own</th>\n",
       "      <th>own_wm</th>\n",
       "      <th>own_prop</th>\n",
       "      <th>own_wm_prop</th>\n",
       "      <th>prop_hhs</th>\n",
       "      <th>age</th>\n",
       "      <th>size</th>\n",
       "      <th>income</th>\n",
       "      <th>expenditure</th>\n",
       "      <th>eqv_income</th>\n",
       "      <th>eqv_exp</th>\n",
       "    </tr>\n",
       "  </thead>\n",
       "  <tbody>\n",
       "    <tr>\n",
       "      <th>0</th>\n",
       "      <td>2008</td>\n",
       "      <td>1560859</td>\n",
       "      <td>1087580</td>\n",
       "      <td>574406</td>\n",
       "      <td>69.7</td>\n",
       "      <td>36.8</td>\n",
       "      <td>100.0</td>\n",
       "      <td>35.9</td>\n",
       "      <td>2.7</td>\n",
       "      <td>46704</td>\n",
       "      <td>42394</td>\n",
       "      <td>26869</td>\n",
       "      <td>25132</td>\n",
       "    </tr>\n",
       "    <tr>\n",
       "      <th>1</th>\n",
       "      <td>2008</td>\n",
       "      <td>185965</td>\n",
       "      <td>71256</td>\n",
       "      <td>39405</td>\n",
       "      <td>38.3</td>\n",
       "      <td>21.2</td>\n",
       "      <td>11.9</td>\n",
       "      <td>29.9</td>\n",
       "      <td>2.6</td>\n",
       "      <td>23404</td>\n",
       "      <td>25270</td>\n",
       "      <td>14258</td>\n",
       "      <td>15824</td>\n",
       "    </tr>\n",
       "    <tr>\n",
       "      <th>2</th>\n",
       "      <td>2008</td>\n",
       "      <td>312376</td>\n",
       "      <td>191470</td>\n",
       "      <td>48424</td>\n",
       "      <td>61.3</td>\n",
       "      <td>15.5</td>\n",
       "      <td>20.0</td>\n",
       "      <td>40.0</td>\n",
       "      <td>2.3</td>\n",
       "      <td>16747</td>\n",
       "      <td>21145</td>\n",
       "      <td>13402</td>\n",
       "      <td>14408</td>\n",
       "    </tr>\n",
       "    <tr>\n",
       "      <th>3</th>\n",
       "      <td>2008</td>\n",
       "      <td>312333</td>\n",
       "      <td>196203</td>\n",
       "      <td>84171</td>\n",
       "      <td>62.8</td>\n",
       "      <td>26.9</td>\n",
       "      <td>20.0</td>\n",
       "      <td>34.7</td>\n",
       "      <td>2.8</td>\n",
       "      <td>31308</td>\n",
       "      <td>29855</td>\n",
       "      <td>18917</td>\n",
       "      <td>18266</td>\n",
       "    </tr>\n",
       "    <tr>\n",
       "      <th>4</th>\n",
       "      <td>2008</td>\n",
       "      <td>312240</td>\n",
       "      <td>217657</td>\n",
       "      <td>141318</td>\n",
       "      <td>69.7</td>\n",
       "      <td>45.3</td>\n",
       "      <td>20.0</td>\n",
       "      <td>31.5</td>\n",
       "      <td>3.0</td>\n",
       "      <td>49106</td>\n",
       "      <td>46561</td>\n",
       "      <td>26870</td>\n",
       "      <td>24672</td>\n",
       "    </tr>\n",
       "  </tbody>\n",
       "</table>\n",
       "</div>"
      ],
      "text/plain": [
       "   year  tot_hhs      own  own_wm  own_prop  own_wm_prop  prop_hhs   age  \\\n",
       "0  2008  1560859  1087580  574406      69.7         36.8     100.0  35.9   \n",
       "1  2008   185965    71256   39405      38.3         21.2      11.9  29.9   \n",
       "2  2008   312376   191470   48424      61.3         15.5      20.0  40.0   \n",
       "3  2008   312333   196203   84171      62.8         26.9      20.0  34.7   \n",
       "4  2008   312240   217657  141318      69.7         45.3      20.0  31.5   \n",
       "\n",
       "   size  income  expenditure  eqv_income  eqv_exp  \n",
       "0   2.7   46704        42394       26869    25132  \n",
       "1   2.6   23404        25270       14258    15824  \n",
       "2   2.3   16747        21145       13402    14408  \n",
       "3   2.8   31308        29855       18917    18266  \n",
       "4   3.0   49106        46561       26870    24672  "
      ]
     },
     "execution_count": 3,
     "metadata": {},
     "output_type": "execute_result"
    }
   ],
   "source": [
    "data.head()"
   ]
  },
  {
   "cell_type": "code",
   "execution_count": 4,
   "id": "cb1a5569-41c8-4591-9dac-a414fc744704",
   "metadata": {},
   "outputs": [
    {
     "data": {
      "text/plain": [
       "(70, 13)"
      ]
     },
     "execution_count": 4,
     "metadata": {},
     "output_type": "execute_result"
    }
   ],
   "source": [
    "data.shape"
   ]
  },
  {
   "cell_type": "code",
   "execution_count": 5,
   "id": "7f2922ca-9186-466c-95d0-89f3eeac6317",
   "metadata": {},
   "outputs": [
    {
     "name": "stdout",
     "output_type": "stream",
     "text": [
      "<class 'pandas.core.frame.DataFrame'>\n",
      "RangeIndex: 70 entries, 0 to 69\n",
      "Data columns (total 13 columns):\n",
      " #   Column       Non-Null Count  Dtype  \n",
      "---  ------       --------------  -----  \n",
      " 0   year         70 non-null     int64  \n",
      " 1   tot_hhs      70 non-null     int64  \n",
      " 2   own          70 non-null     int64  \n",
      " 3   own_wm       70 non-null     int64  \n",
      " 4   own_prop     70 non-null     float64\n",
      " 5   own_wm_prop  70 non-null     float64\n",
      " 6   prop_hhs     70 non-null     float64\n",
      " 7   age          70 non-null     float64\n",
      " 8   size         70 non-null     float64\n",
      " 9   income       70 non-null     int64  \n",
      " 10  expenditure  70 non-null     int64  \n",
      " 11  eqv_income   70 non-null     int64  \n",
      " 12  eqv_exp      70 non-null     int64  \n",
      "dtypes: float64(5), int64(8)\n",
      "memory usage: 7.2 KB\n"
     ]
    }
   ],
   "source": [
    "data.info()"
   ]
  },
  {
   "cell_type": "code",
   "execution_count": 6,
   "id": "50d80eb9-a75d-4327-b242-79542b1f1eac",
   "metadata": {},
   "outputs": [
    {
     "data": {
      "text/html": [
       "<div>\n",
       "<style scoped>\n",
       "    .dataframe tbody tr th:only-of-type {\n",
       "        vertical-align: middle;\n",
       "    }\n",
       "\n",
       "    .dataframe tbody tr th {\n",
       "        vertical-align: top;\n",
       "    }\n",
       "\n",
       "    .dataframe thead th {\n",
       "        text-align: right;\n",
       "    }\n",
       "</style>\n",
       "<table border=\"1\" class=\"dataframe\">\n",
       "  <thead>\n",
       "    <tr style=\"text-align: right;\">\n",
       "      <th></th>\n",
       "      <th>year</th>\n",
       "      <th>tot_hhs</th>\n",
       "      <th>own</th>\n",
       "      <th>own_wm</th>\n",
       "      <th>own_prop</th>\n",
       "      <th>own_wm_prop</th>\n",
       "      <th>prop_hhs</th>\n",
       "      <th>age</th>\n",
       "      <th>size</th>\n",
       "      <th>income</th>\n",
       "      <th>expenditure</th>\n",
       "      <th>eqv_income</th>\n",
       "      <th>eqv_exp</th>\n",
       "    </tr>\n",
       "  </thead>\n",
       "  <tbody>\n",
       "    <tr>\n",
       "      <th>65</th>\n",
       "      <td>2020</td>\n",
       "      <td>352564</td>\n",
       "      <td>213893</td>\n",
       "      <td>119637</td>\n",
       "      <td>60.7</td>\n",
       "      <td>33.9</td>\n",
       "      <td>20.1</td>\n",
       "      <td>36.9</td>\n",
       "      <td>2.8</td>\n",
       "      <td>69779</td>\n",
       "      <td>57351</td>\n",
       "      <td>38889</td>\n",
       "      <td>33468</td>\n",
       "    </tr>\n",
       "    <tr>\n",
       "      <th>66</th>\n",
       "      <td>2020</td>\n",
       "      <td>350182</td>\n",
       "      <td>235256</td>\n",
       "      <td>141104</td>\n",
       "      <td>67.2</td>\n",
       "      <td>40.3</td>\n",
       "      <td>19.9</td>\n",
       "      <td>35.0</td>\n",
       "      <td>3.0</td>\n",
       "      <td>88944</td>\n",
       "      <td>83038</td>\n",
       "      <td>48929</td>\n",
       "      <td>45978</td>\n",
       "    </tr>\n",
       "    <tr>\n",
       "      <th>67</th>\n",
       "      <td>2020</td>\n",
       "      <td>351328</td>\n",
       "      <td>288779</td>\n",
       "      <td>187838</td>\n",
       "      <td>82.2</td>\n",
       "      <td>53.5</td>\n",
       "      <td>20.0</td>\n",
       "      <td>39.6</td>\n",
       "      <td>2.6</td>\n",
       "      <td>104277</td>\n",
       "      <td>123424</td>\n",
       "      <td>62718</td>\n",
       "      <td>71985</td>\n",
       "    </tr>\n",
       "    <tr>\n",
       "      <th>68</th>\n",
       "      <td>2020</td>\n",
       "      <td>329588</td>\n",
       "      <td>156459</td>\n",
       "      <td>107753</td>\n",
       "      <td>47.5</td>\n",
       "      <td>32.7</td>\n",
       "      <td>18.8</td>\n",
       "      <td>31.1</td>\n",
       "      <td>3.2</td>\n",
       "      <td>69581</td>\n",
       "      <td>54141</td>\n",
       "      <td>35075</td>\n",
       "      <td>29684</td>\n",
       "    </tr>\n",
       "    <tr>\n",
       "      <th>69</th>\n",
       "      <td>2020</td>\n",
       "      <td>388013</td>\n",
       "      <td>314154</td>\n",
       "      <td>38270</td>\n",
       "      <td>81.0</td>\n",
       "      <td>9.9</td>\n",
       "      <td>22.1</td>\n",
       "      <td>69.8</td>\n",
       "      <td>1.7</td>\n",
       "      <td>34712</td>\n",
       "      <td>34643</td>\n",
       "      <td>25077</td>\n",
       "      <td>27037</td>\n",
       "    </tr>\n",
       "  </tbody>\n",
       "</table>\n",
       "</div>"
      ],
      "text/plain": [
       "    year  tot_hhs     own  own_wm  own_prop  own_wm_prop  prop_hhs   age  \\\n",
       "65  2020   352564  213893  119637      60.7         33.9      20.1  36.9   \n",
       "66  2020   350182  235256  141104      67.2         40.3      19.9  35.0   \n",
       "67  2020   351328  288779  187838      82.2         53.5      20.0  39.6   \n",
       "68  2020   329588  156459  107753      47.5         32.7      18.8  31.1   \n",
       "69  2020   388013  314154   38270      81.0          9.9      22.1  69.8   \n",
       "\n",
       "    size  income  expenditure  eqv_income  eqv_exp  \n",
       "65   2.8   69779        57351       38889    33468  \n",
       "66   3.0   88944        83038       48929    45978  \n",
       "67   2.6  104277       123424       62718    71985  \n",
       "68   3.2   69581        54141       35075    29684  \n",
       "69   1.7   34712        34643       25077    27037  "
      ]
     },
     "execution_count": 6,
     "metadata": {},
     "output_type": "execute_result"
    }
   ],
   "source": [
    "data.tail()"
   ]
  },
  {
   "cell_type": "code",
   "execution_count": 7,
   "id": "d2aed5f4-7d6c-44ea-a02b-8eaad4ced3d6",
   "metadata": {},
   "outputs": [],
   "source": [
    "total_houses=data.groupby(\"year\")[\"tot_hhs\"].sum()"
   ]
  },
  {
   "cell_type": "code",
   "execution_count": 8,
   "id": "31c33031-09fe-49ec-9e37-ed7103f72b02",
   "metadata": {},
   "outputs": [
    {
     "data": {
      "text/plain": [
       "year\n",
       "2008    5421803\n",
       "2011    5620039\n",
       "2014    5749150\n",
       "2017    5887977\n",
       "2020    6197380\n",
       "Name: tot_hhs, dtype: int64"
      ]
     },
     "execution_count": 8,
     "metadata": {},
     "output_type": "execute_result"
    }
   ],
   "source": [
    "total_houses"
   ]
  },
  {
   "cell_type": "markdown",
   "id": "db6a8b23-9a80-40c1-bab8-cb51699abce0",
   "metadata": {},
   "source": [
    "### Barplot on Houses and Year"
   ]
  },
  {
   "cell_type": "code",
   "execution_count": 9,
   "id": "e56fafbc-9191-4e53-ba13-962343a6fa2a",
   "metadata": {},
   "outputs": [
    {
     "data": {
      "image/png": "[encoded data removed]",
      "text/plain": [
       "<Figure size 640x480 with 1 Axes>"
      ]
     },
     "metadata": {},
     "output_type": "display_data"
    }
   ],
   "source": [
    "plt.bar(data.year.unique(),total_houses)\n",
    "plt.title(\"Households in an year\")\n",
    "plt.xlabel(\"Year\")\n",
    "plt.ylabel(\"Houses\")\n",
    "plt.show()"
   ]
  },
  {
   "cell_type": "code",
   "execution_count": 10,
   "id": "698254e8-6b80-4c74-8d53-1a958f23d0e0",
   "metadata": {},
   "outputs": [],
   "source": [
    "averages=data.groupby(\"year\")[\"age\"].mean()"
   ]
  },
  {
   "cell_type": "code",
   "execution_count": 11,
   "id": "f5fcd4ed-e869-4de8-94ac-e7562ec30131",
   "metadata": {},
   "outputs": [
    {
     "data": {
      "text/plain": [
       "year\n",
       "2008    37.528571\n",
       "2011    37.621429\n",
       "2014    38.135714\n",
       "2017    38.857143\n",
       "2020    39.278571\n",
       "Name: age, dtype: float64"
      ]
     },
     "execution_count": 11,
     "metadata": {},
     "output_type": "execute_result"
    }
   ],
   "source": [
    "averages"
   ]
  },
  {
   "cell_type": "markdown",
   "id": "4a9f94d9-dadc-4a9c-a443-6d73d8d576d4",
   "metadata": {},
   "source": [
    "### Line Chart"
   ]
  },
  {
   "cell_type": "code",
   "execution_count": 12,
   "id": "1094c1ea-fa0d-4825-adaa-7ae9099a9047",
   "metadata": {},
   "outputs": [
    {
     "data": {
      "image/png": "[encoded data removed]",
      "text/plain": [
       "<Figure size 640x480 with 1 Axes>"
      ]
     },
     "metadata": {},
     "output_type": "display_data"
    }
   ],
   "source": [
    "plt.plot(averages)\n",
    "plt.title(\"Averages of Ages\")\n",
    "plt.ylabel(\"years\")\n",
    "plt.xlabel(\"Age\")\n",
    "plt.show()"
   ]
  },
  {
   "cell_type": "markdown",
   "id": "11226959-1189-44c9-9067-26beb064308d",
   "metadata": {},
   "source": [
    "### Histogram"
   ]
  },
  {
   "cell_type": "code",
   "execution_count": 13,
   "id": "52dc206c-5d21-41fa-bcc7-91025a728488",
   "metadata": {},
   "outputs": [
    {
     "data": {
      "image/png": "[encoded data removed]",
      "text/plain": [
       "<Figure size 640x480 with 1 Axes>"
      ]
     },
     "metadata": {},
     "output_type": "display_data"
    }
   ],
   "source": [
    "plt.hist(data[\"size\"])\n",
    "plt.title(\"People in a House\")\n",
    "plt.xlabel(\"Size of family\")\n",
    "plt.ylabel(\"No of families\")\n",
    "plt.show()"
   ]
  },
  {
   "cell_type": "markdown",
   "id": "ef7126f4-6dd4-4a6b-a5fb-c490a8c0008b",
   "metadata": {},
   "source": [
    "### Scatter Plot"
   ]
  },
  {
   "cell_type": "code",
   "execution_count": 14,
   "id": "6fe92115-f980-413b-a314-b56612d9474a",
   "metadata": {},
   "outputs": [
    {
     "data": {
      "image/png": "[encoded data removed]",
      "text/plain": [
       "<Figure size 640x480 with 1 Axes>"
      ]
     },
     "metadata": {},
     "output_type": "display_data"
    }
   ],
   "source": [
    "plt.scatter(data[\"own_wm_prop\"],data[\"own_prop\"])\n",
    "plt.title(\"Houses based on Properties\")\n",
    "plt.xlabel(\"own_wm_prop\")\n",
    "plt.ylabel(\"No of houses\")\n",
    "plt.show()"
   ]
  }
 ],
 "metadata": {
  "kernelspec": {
   "display_name": "Python 3 (ipykernel)",
   "language": "python",
   "name": "python3"
  },
  "language_info": {
   "codemirror_mode": {
    "name": "ipython",
    "version": 3
   },
   "file_extension": ".py",
   "mimetype": "text/x-python",
   "name": "python",
   "nbconvert_exporter": "python",
   "pygments_lexer": "ipython3",
   "version": "3.12.3"
  }
 },
 "nbformat": 4,
 "nbformat_minor": 5
}
